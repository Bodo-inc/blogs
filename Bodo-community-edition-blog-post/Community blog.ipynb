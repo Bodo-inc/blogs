{
 "cells": [
  {
   "cell_type": "markdown",
   "id": "a2df9bf1",
   "metadata": {},
   "source": [
    "<h1>Bodo and Pandas: How to Accelerate Large Data Analytics on your Laptop</h1>"
   ]
  },
  {
   "cell_type": "markdown",
   "id": "067fc33f",
   "metadata": {},
   "source": [
    "<h2> Data Frame Preparation </h2>"
   ]
  },
  {
   "cell_type": "code",
   "execution_count": 1,
   "id": "394b964a",
   "metadata": {},
   "outputs": [],
   "source": [
    "#concat 2019 nyc taxi data into a CSV file\n",
    "\n",
    "import pandas as pd\n",
    "import glob\n",
    "import os\n",
    "\n",
    "path = r\"data/NYC_Taxi_2\" # use your path\n",
    "all_files = glob.glob(path + \"/*.csv\")\n",
    "\n",
    "li = []\n",
    "\n",
    "for filename in all_files:\n",
    "    df = pd.read_csv(filename, index_col=None, header=0, low_memory=False)\n",
    "    li.append(df)\n",
    "\n",
    "frame = pd.concat(li, axis=0, ignore_index=True)"
   ]
  },
  {
   "cell_type": "code",
   "execution_count": 2,
   "id": "649dde30",
   "metadata": {},
   "outputs": [],
   "source": [
    "#Convert and save as parquet\n",
    "\n",
    "frame.to_parquet(\"nyc_taxi_2019.parquet\", index=False)"
   ]
  },
  {
   "cell_type": "markdown",
   "id": "4cdd258a",
   "metadata": {},
   "source": [
    "<h2>Environment Setup for Parallel Computation with Bodo</h2>"
   ]
  },
  {
   "cell_type": "code",
   "execution_count": 3,
   "id": "f4671fbe",
   "metadata": {},
   "outputs": [
    {
     "name": "stdout",
     "output_type": "stream",
     "text": [
      "[stdout:0] /Users/nmshafie\n",
      "[stdout:1] /Users/nmshafie\n",
      "[stdout:2] /Users/nmshafie\n",
      "[stdout:3] /Users/nmshafie\n"
     ]
    }
   ],
   "source": [
    "import ipyparallel as ipp\n",
    "c = ipp.Client(profile=\"mpi\")\n",
    "view = c[:]\n",
    "view.activate()\n",
    "view.block = True  # equivalent to running with %%px --block\n",
    "\n",
    "# Set the working directory:\n",
    "import os\n",
    "view[\"cwd\"] = os.getcwd()\n",
    "%px cd $cwd"
   ]
  },
  {
   "cell_type": "markdown",
   "id": "4151794c",
   "metadata": {},
   "source": [
    "<h2>Load the data</h2>"
   ]
  },
  {
   "cell_type": "code",
   "execution_count": 5,
   "id": "b7ae55cf",
   "metadata": {},
   "outputs": [
    {
     "name": "stdout",
     "output_type": "stream",
     "text": [
      "Reading time:  274.647855758667 seconds\n",
      "-----\n",
      "   VendorID tpep_pickup_datetime tpep_dropoff_datetime  passenger_count  \\\n",
      "0       1.0  2019-11-01 00:30:41   2019-11-01 00:32:25              1.0   \n",
      "1       1.0  2019-11-01 00:34:01   2019-11-01 00:34:09              1.0   \n",
      "2       2.0  2019-11-01 00:41:59   2019-11-01 00:42:23              1.0   \n",
      "3       2.0  2019-11-01 00:02:39   2019-11-01 00:02:51              1.0   \n",
      "4       2.0  2019-11-01 00:18:30   2019-11-01 00:18:39              2.0   \n",
      "\n",
      "   trip_distance  RatecodeID store_and_fwd_flag  PULocationID  DOLocationID  \\\n",
      "0            0.0         1.0                  N           145           145   \n",
      "1            0.0         1.0                  N           145           145   \n",
      "2            0.0         1.0                  N           193           193   \n",
      "3            0.0         1.0                  N           193           193   \n",
      "4            0.0         1.0                  N           226           226   \n",
      "\n",
      "   payment_type  fare_amount  extra  mta_tax  tip_amount  tolls_amount  \\\n",
      "0           2.0          3.0    0.5      0.5        0.00           0.0   \n",
      "1           2.0          2.5    0.5      0.5        0.00           0.0   \n",
      "2           1.0          2.5    0.5      0.5        0.95           0.0   \n",
      "3           1.0          2.5    0.5      0.5        0.95           0.0   \n",
      "4           2.0          2.5    0.0      0.5        0.00           0.0   \n",
      "\n",
      "   improvement_surcharge  total_amount  congestion_surcharge  \n",
      "0                    0.3          4.30                   0.0  \n",
      "1                    0.3          3.80                   0.0  \n",
      "2                    0.3          4.75                   0.0  \n",
      "3                    0.3          4.75                   0.0  \n",
      "4                    0.3          3.30                   0.0  \n"
     ]
    }
   ],
   "source": [
    "import pandas as pd\n",
    "import time\n",
    "\n",
    "def read_data():\n",
    "    start_time = time.time()\n",
    "    df_pandas = pd.read_parquet(\"nyc_taxi_2019.parquet\")\n",
    "    print(\"Reading time: \", time.time()-start_time, \"seconds\")\n",
    "    print(\"-----\")\n",
    "    print(df_pandas.head())\n",
    "    return df_pandas\n",
    "\n",
    "df_pandas = read_data()"
   ]
  },
  {
   "cell_type": "code",
   "execution_count": 8,
   "id": "0dafca5a",
   "metadata": {},
   "outputs": [
    {
     "name": "stdout",
     "output_type": "stream",
     "text": [
      "[stdout:0] \n",
      "Reading time:  57.232564654012094 seconds\n",
      "-----\n",
      "   VendorID tpep_pickup_datetime tpep_dropoff_datetime  passenger_count  \\\n",
      "0       1.0  2019-11-01 00:30:41   2019-11-01 00:32:25              1.0   \n",
      "1       1.0  2019-11-01 00:34:01   2019-11-01 00:34:09              1.0   \n",
      "2       2.0  2019-11-01 00:41:59   2019-11-01 00:42:23              1.0   \n",
      "3       2.0  2019-11-01 00:02:39   2019-11-01 00:02:51              1.0   \n",
      "4       2.0  2019-11-01 00:18:30   2019-11-01 00:18:39              2.0   \n",
      "\n",
      "   trip_distance  RatecodeID store_and_fwd_flag  PULocationID  DOLocationID  \\\n",
      "0            0.0         1.0                  N           145           145   \n",
      "1            0.0         1.0                  N           145           145   \n",
      "2            0.0         1.0                  N           193           193   \n",
      "3            0.0         1.0                  N           193           193   \n",
      "4            0.0         1.0                  N           226           226   \n",
      "\n",
      "   payment_type  fare_amount  extra  mta_tax  tip_amount  tolls_amount  \\\n",
      "0           2.0          3.0    0.5      0.5        0.00           0.0   \n",
      "1           2.0          2.5    0.5      0.5        0.00           0.0   \n",
      "2           1.0          2.5    0.5      0.5        0.95           0.0   \n",
      "3           1.0          2.5    0.5      0.5        0.95           0.0   \n",
      "4           2.0          2.5    0.0      0.5        0.00           0.0   \n",
      "\n",
      "   improvement_surcharge  total_amount  congestion_surcharge  \n",
      "0                    0.3          4.30                   0.0  \n",
      "1                    0.3          3.80                   0.0  \n",
      "2                    0.3          4.75                   0.0  \n",
      "3                    0.3          4.75                   0.0  \n",
      "4                    0.3          3.30                   0.0  \n"
     ]
    }
   ],
   "source": [
    "%%px\n",
    "\n",
    "import pandas as pd\n",
    "import bodo\n",
    "import time\n",
    "\n",
    "@bodo.jit\n",
    "def read_data():\n",
    "    start_time = time.time()\n",
    "    df_bodo = pd.read_parquet(\"nyc_taxi_2019.parquet\")\n",
    "    print(\"Reading time: \", time.time()-start_time, \"seconds\")\n",
    "    print(\"-----\")\n",
    "    print(df_bodo.head())\n",
    "    return df_bodo\n",
    "\n",
    "df_bodo = read_data()"
   ]
  },
  {
   "cell_type": "markdown",
   "id": "c56aa444",
   "metadata": {},
   "source": [
    "<h2> Group By </h2>"
   ]
  },
  {
   "cell_type": "code",
   "execution_count": 6,
   "id": "0d8788f5",
   "metadata": {},
   "outputs": [
    {
     "name": "stdout",
     "output_type": "stream",
     "text": [
      "Execution time:  26.492263793945312 seconds\n",
      "-----\n",
      "rides count:  passenger_count\n",
      "0.0     1525798\n",
      "1.0    59108834\n",
      "2.0    12785787\n",
      "3.0     3583919\n",
      "4.0     1709802\n",
      "5.0     3398212\n",
      "6.0     2039148\n",
      "7.0         416\n",
      "8.0         277\n",
      "9.0         225\n",
      "Name: VendorID, dtype: int64\n",
      "-----\n",
      "payment types count:  payment_type\n",
      "1.0    60622269\n",
      "2.0    22896312\n",
      "3.0      447241\n",
      "4.0      186563\n",
      "5.0          33\n",
      "Name: VendorID, dtype: int64\n",
      "-----\n",
      "average fare:  passenger_count\n",
      "0.0    13.344301\n",
      "1.0    13.168674\n",
      "2.0    13.715184\n",
      "3.0    13.558509\n",
      "4.0    14.035427\n",
      "5.0    13.070685\n",
      "6.0    13.055162\n",
      "7.0    54.975769\n",
      "8.0    58.659603\n",
      "9.0    56.051778\n",
      "Name: fare_amount, dtype: float64\n"
     ]
    }
   ],
   "source": [
    "def grouping(df_pandas):\n",
    "    start_time = time.time()\n",
    "    rides_count = df_pandas.groupby(\"passenger_count\")[\"VendorID\"].count()\n",
    "    pt_count = df_pandas.groupby(\"payment_type\")[\"VendorID\"].count()\n",
    "    fare_avg_ct = df_pandas.groupby(\"passenger_count\")[\"fare_amount\"].mean()\n",
    "    print(\"Execution time: \", time.time()-start_time, \"seconds\")\n",
    "    print(\"-----\")\n",
    "    print(\"rides count: \", rides_count)\n",
    "    print(\"-----\")\n",
    "    print(\"payment types count: \", pt_count)\n",
    "    print(\"-----\")\n",
    "    print(\"average fare: \", fare_avg_ct)\n",
    "    return rides_count, pt_count, fare_avg_ct\n",
    "\n",
    "rides_count, pt_count, fare_avg_ct = grouping(df_pandas)"
   ]
  },
  {
   "cell_type": "code",
   "execution_count": 9,
   "id": "cbd4e8c5",
   "metadata": {},
   "outputs": [
    {
     "name": "stdout",
     "output_type": "stream",
     "text": [
      "[stdout:0] \n",
      "Execution time:  5.501955880012247 seconds\n",
      "-----\n",
      "rides count:  passenger_count\n",
      "0.0     1525798\n",
      "4.0     1709802\n",
      "6.0     2039148\n",
      "1.0    59108834\n",
      "7.0         416\n",
      "8.0         277\n",
      "5.0     3398212\n",
      "2.0    12785787\n",
      "3.0     3583919\n",
      "9.0         225\n",
      "Name: VendorID, dtype: int64\n",
      "-----\n",
      "payment types count:  payment_type\n",
      "4.0      186563\n",
      "1.0    60622269\n",
      "5.0          33\n",
      "2.0    22896312\n",
      "3.0      447241\n",
      "Name: VendorID, dtype: int64\n",
      "-----\n",
      "average fare:  passenger_count\n",
      "0.0    13.344301\n",
      "4.0    14.035427\n",
      "6.0    13.055162\n",
      "1.0    13.168674\n",
      "7.0    54.975769\n",
      "8.0    58.659603\n",
      "5.0    13.070685\n",
      "2.0    13.715184\n",
      "3.0    13.558509\n",
      "9.0    56.051778\n",
      "Name: fare_amount, dtype: float64\n"
     ]
    }
   ],
   "source": [
    "%%px\n",
    "\n",
    "@bodo.jit\n",
    "def grouping(df_bodo):\n",
    "    start_time = time.time()\n",
    "    rides_count = df_bodo.groupby(\"passenger_count\")[\"VendorID\"].count()\n",
    "    pt_count = df_bodo.groupby(\"payment_type\")[\"VendorID\"].count()\n",
    "    fare_avg_ct = df_bodo.groupby(\"passenger_count\")[\"fare_amount\"].mean()\n",
    "    print(\"Execution time: \", time.time()-start_time, \"seconds\")\n",
    "    print(\"-----\")\n",
    "    print(\"rides count: \", bodo.allgatherv(rides_count))\n",
    "    print(\"-----\")\n",
    "    print(\"payment types count: \", bodo.allgatherv(pt_count))\n",
    "    print(\"-----\")\n",
    "    print(\"average fare: \", bodo.allgatherv(fare_avg_ct))\n",
    "    return rides_count, pt_count, fare_avg_ct\n",
    "    \n",
    "rides_count, pt_count, fare_avg_ct = grouping(df_bodo)"
   ]
  },
  {
   "cell_type": "markdown",
   "id": "c6387b77",
   "metadata": {},
   "source": [
    "<h2>Filter data</h2>"
   ]
  },
  {
   "cell_type": "code",
   "execution_count": 6,
   "id": "0dd5e69d",
   "metadata": {},
   "outputs": [
    {
     "name": "stdout",
     "output_type": "stream",
     "text": [
      "Execution time:  516.9443788528442 seconds\n"
     ]
    }
   ],
   "source": [
    "def filter_rides(df_pandas):\n",
    "    start_time = time.time()\n",
    "    df_pandas[\"tpep_pickup_datetime\"] = pd.to_datetime(df_pandas[\"tpep_pickup_datetime\"])\n",
    "    filtered_rides = df_pandas[df_pandas[\"tpep_pickup_datetime\"]>\"2019-05-31\"]\n",
    "    filtered_rides.to_csv(\"rides_after_may.csv\", index=False)\n",
    "    print(\"Execution time: \", time.time() - start_time, \"seconds\")\n",
    "    return df_pandas\n",
    "    \n",
    "df_pandas = filter_rides(df_pandas)"
   ]
  },
  {
   "cell_type": "code",
   "execution_count": 10,
   "id": "ddd2bb5b",
   "metadata": {},
   "outputs": [
    {
     "name": "stdout",
     "output_type": "stream",
     "text": [
      "[stdout:0] Execution time:  330.9096592870046 seconds\n"
     ]
    }
   ],
   "source": [
    "%%px\n",
    "\n",
    "@bodo.jit\n",
    "def filter_rides(df_bodo):\n",
    "    start_time = time.time()\n",
    "    df_bodo[\"tpep_pickup_datetime\"] = pd.to_datetime(df_bodo[\"tpep_pickup_datetime\"])\n",
    "    filtered_rides = df_bodo[df_bodo[\"tpep_pickup_datetime\"]>\"2019-05-31\"]\n",
    "    filtered_rides.to_csv(\"rides_after_may_bodo.csv\", index=False)\n",
    "    print(\"Execution time: \", time.time() - start_time, \"seconds\")\n",
    "    return df_bodo\n",
    "    \n",
    "df_bodo = filter_rides(df_bodo)"
   ]
  },
  {
   "cell_type": "markdown",
   "id": "80f79766",
   "metadata": {},
   "source": [
    "<h2>User-defined Function</h2>"
   ]
  },
  {
   "cell_type": "code",
   "execution_count": 7,
   "id": "1a67a95d",
   "metadata": {},
   "outputs": [
    {
     "name": "stdout",
     "output_type": "stream",
     "text": [
      "Execution time:  986.995621919632\n",
      "-----\n",
      "0    2019\n",
      "1    2019\n",
      "2    2019\n",
      "3    2019\n",
      "4    2019\n",
      "Name: year, dtype: int64\n",
      "-----\n",
      "0    4\n",
      "1    4\n",
      "2    4\n",
      "3    4\n",
      "4    4\n",
      "Name: weekday, dtype: int64\n",
      "-----\n",
      "0    0\n",
      "1    0\n",
      "2    0\n",
      "3    0\n",
      "4    0\n",
      "Name: hour, dtype: int64\n"
     ]
    }
   ],
   "source": [
    "def UDF(df_pandas):\n",
    "    start_time = time.time()\n",
    "    df_pandas[\"year\"] = df_pandas[\"tpep_pickup_datetime\"].apply(lambda t: t.year)\n",
    "    df_pandas[\"weekday\"] = df_pandas[\"tpep_pickup_datetime\"].apply(lambda t: t.weekday())\n",
    "    df_pandas[\"hour\"] = df_pandas[\"tpep_pickup_datetime\"].apply(lambda t: t.hour)\n",
    "    print(\"Execution time: \", time.time()-start_time)\n",
    "    print(\"-----\")\n",
    "    print(df_pandas[\"year\"].head())\n",
    "    print(\"-----\")\n",
    "    print(df_pandas[\"weekday\"].head())\n",
    "    print(\"-----\")\n",
    "    print(df_pandas[\"hour\"].head())\n",
    "    return df_pandas\n",
    "\n",
    "df_pandas = UDF(df_pandas)"
   ]
  },
  {
   "cell_type": "code",
   "execution_count": 11,
   "id": "2223d006",
   "metadata": {},
   "outputs": [
    {
     "name": "stdout",
     "output_type": "stream",
     "text": [
      "[stdout:0] \n",
      "Execution time:  24.197439962998033\n",
      "-----\n",
      "0    2019\n",
      "1    2019\n",
      "2    2019\n",
      "3    2019\n",
      "4    2019\n",
      "Name: year, dtype: int64\n",
      "-----\n",
      "0    4\n",
      "1    4\n",
      "2    4\n",
      "3    4\n",
      "4    4\n",
      "Name: weekday, dtype: int64\n",
      "-----\n",
      "0    0\n",
      "1    0\n",
      "2    0\n",
      "3    0\n",
      "4    0\n",
      "Name: hour, dtype: int64\n"
     ]
    }
   ],
   "source": [
    "%%px\n",
    "\n",
    "@bodo.jit\n",
    "def UDF(df_bodo):\n",
    "    start_time = time.time()\n",
    "    df_bodo[\"year\"] = df_bodo[\"tpep_pickup_datetime\"].apply(lambda t: t.year)\n",
    "    df_bodo[\"weekday\"] = df_bodo[\"tpep_pickup_datetime\"].apply(lambda t: t.weekday())\n",
    "    df_bodo[\"hour\"] = df_bodo[\"tpep_pickup_datetime\"].apply(lambda t: t.hour)\n",
    "    print(\"Execution time: \", time.time()-start_time)\n",
    "    print(\"-----\")\n",
    "    print(df_bodo[\"year\"].head())\n",
    "    print(\"-----\")\n",
    "    print(df_bodo[\"weekday\"].head())\n",
    "    print(\"-----\")\n",
    "    print(df_bodo[\"hour\"].head())\n",
    "    return df_bodo\n",
    "\n",
    "df_bodo = UDF(df_bodo)"
   ]
  },
  {
   "cell_type": "markdown",
   "id": "a96eb871",
   "metadata": {},
   "source": [
    "<h2>Visualization</h2>"
   ]
  },
  {
   "cell_type": "code",
   "execution_count": 3,
   "id": "6c0d7888",
   "metadata": {},
   "outputs": [
    {
     "data": {
      "image/png": "[encoded data removed]",
      "text/plain": [
       "<Figure size 648x648 with 1 Axes>"
      ]
     },
     "metadata": {
      "needs_background": "light"
     },
     "output_type": "display_data"
    }
   ],
   "source": [
    "import pandas as pd\n",
    "import numpy as np\n",
    "import matplotlib.pyplot as plt\n",
    "\n",
    "df = pd.DataFrame({\"Data loading\": [228, 49], \n",
    "                  \"Group by\": [21, 5], \n",
    "                  \"Filter data\": [531,300],\n",
    "                  \"User-defined function\": [1075, 21]})\n",
    "\n",
    "#plot settings\n",
    "ax = df.plot(kind=\"bar\", stacked=True, figsize=(9, 9))\n",
    "plt.rcParams.update({\"font.size\": 20})\n",
    "ax.set_ylabel(\"Seconds\")\n",
    "ax.set_xlabel(\"Method\")\n",
    "ax.set_xticklabels((\"Pandas\", \"Bodo\"))\n",
    "plt.legend(title=\"Task\")\n",
    "plt.title(\"Data Processing Time\")\n",
    "plt.savefig(\"stacked.png\")  # if needed\n",
    "plt.show()"
   ]
  }
 ],
 "metadata": {
  "kernelspec": {
   "display_name": "Python 3",
   "language": "python",
   "name": "python3"
  },
  "language_info": {
   "codemirror_mode": {
    "name": "ipython",
    "version": 3
   },
   "file_extension": ".py",
   "mimetype": "text/x-python",
   "name": "python",
   "nbconvert_exporter": "python",
   "pygments_lexer": "ipython3",
   "version": "3.9.4"
  }
 },
 "nbformat": 4,
 "nbformat_minor": 5
}
